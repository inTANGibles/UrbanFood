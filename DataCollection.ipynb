{
 "cells": [
  {
   "cell_type": "markdown",
   "source": [
    "# DATA PREPARATION!"
   ],
   "metadata": {
    "collapsed": false
   }
  },
  {
   "cell_type": "code",
   "execution_count": 7,
   "outputs": [
    {
     "name": "stdout",
     "output_type": "stream",
     "text": [
      "      fid                                         denom  \\\n",
      "0     1.0  Scuola dellinfanzia (st.) di Musile di Piave   \n",
      "1     2.0      Scuola dellinfanzia (par.) Decor Carmeli   \n",
      "2     6.0             Scuola primaria (st.) Tito Acerbo   \n",
      "3     4.0            Scuola primaria (st.) E. De Amicis   \n",
      "4     7.0         Scuola secondaria di I° (st.) E. Toti   \n",
      "...   ...                                           ...   \n",
      "2158  NaN                                          None   \n",
      "2159  NaN                                          None   \n",
      "2160  NaN                                          None   \n",
      "2161  NaN                                          None   \n",
      "2162  NaN                                          None   \n",
      "\n",
      "                                        indirizzo               tipologia  \\\n",
      "0                  Musile di Piave, Via 29 Aprile          Scuola materna   \n",
      "1     Musile di Piave (Croce), Piazza T. Acerbo 1          Scuola materna   \n",
      "2           Musile di Piave (Croce), Via Bosco 13       Scuola elementare   \n",
      "3          Musile di Piave, Piazza XVIII Giugno 2       Scuola elementare   \n",
      "4               Musile di Piave, Via G. Marconi 1  Scuola media inferiore   \n",
      "...                                           ...                     ...   \n",
      "2158                                         None                    None   \n",
      "2159                                         None                    None   \n",
      "2160                                         None                    None   \n",
      "2161                                         None                    None   \n",
      "2162                                         None                    None   \n",
      "\n",
      "     t_altro                        geometry  \n",
      "0       None  POINT (778112.248 5057572.425)  \n",
      "1       None   POINT (774413.84 5059200.755)  \n",
      "2       None  POINT (774441.639 5059088.268)  \n",
      "3       None  POINT (777808.842 5058331.031)  \n",
      "4       None  POINT (777580.763 5058121.049)  \n",
      "...      ...                             ...  \n",
      "2158    None  POINT (774650.154 5040893.714)  \n",
      "2159    None  POINT (770107.909 5039013.958)  \n",
      "2160    None  POINT (772708.967 5043382.869)  \n",
      "2161    None  POINT (772182.425 5039812.467)  \n",
      "2162    None  POINT (772197.764 5039846.802)  \n",
      "\n",
      "[2163 rows x 6 columns]\n"
     ]
    }
   ],
   "source": [
    "import pandas as pd\n",
    "import numpy as np\n",
    "import matplotlib.pyplot as plt\n",
    "import geopandas as gpd\n",
    "from shapely.geometry import box,Polygon\n",
    "\n"
   ],
   "metadata": {
    "collapsed": false,
    "ExecuteTime": {
     "start_time": "2025-05-23T14:22:47.340278Z",
     "end_time": "2025-05-23T14:22:47.444680Z"
    }
   }
  },
  {
   "cell_type": "markdown",
   "source": [
    "# 数据预处理"
   ],
   "metadata": {
    "collapsed": false
   }
  },
  {
   "cell_type": "code",
   "execution_count": null,
   "outputs": [],
   "source": [
    "# 设置格网大小（单位和你的坐标系一致，比如米）\n",
    "grid_size = 1000  # 每个正方形边长1000米（1公里）\n",
    "\n",
    "# 获取工厂数据的包络范围 (bounding box)\n",
    "minx, miny, maxx, maxy = gdf_boundary.total_bounds\n",
    "\n",
    "# 创建格网\n",
    "grid_cells = []\n",
    "x_left = minx\n",
    "while x_left < maxx:\n",
    "    y_bottom = miny\n",
    "    while y_bottom < maxy:\n",
    "        cell = box(x_left, y_bottom, x_left + grid_size, y_bottom + grid_size)\n",
    "        grid_cells.append(cell)\n",
    "        y_bottom += grid_size\n",
    "    x_left += grid_size\n",
    "\n",
    "# 转成GeoDataFrame\n",
    "grid = gpd.GeoDataFrame({'geometry': grid_cells}, crs=gdf_processing.crs)"
   ],
   "metadata": {
    "collapsed": false,
    "ExecuteTime": {
     "start_time": "2025-05-18T15:42:43.260952Z",
     "end_time": "2025-05-18T15:42:43.345282Z"
    }
   }
  },
  {
   "cell_type": "markdown",
   "source": [
    "## 空间连接"
   ],
   "metadata": {
    "collapsed": false
   }
  },
  {
   "cell_type": "code",
   "execution_count": null,
   "outputs": [],
   "source": [
    "# 对于点的处理\n",
    "# 每个格子ID对应工厂数\n",
    "join = gpd.sjoin(gdf_processing, grid, how='left', predicate='within')\n",
    "grid['factory_count'] = join.groupby('index_right').size()\n",
    "grid['factory_count'] = grid['factory_count'].fillna(0)\n",
    "# 每个格子ID对应公共服务\n",
    "join = gpd.sjoin(gdf_services, grid, how='left', predicate='within')\n",
    "grid['public_services'] = join.groupby('index_right').size()\n",
    "grid['public_services'] = grid['public_services'].fillna(0)\n",
    "# 每个格子ID对应废物处理\n",
    "join = gpd.sjoin(gdf_waste, grid, how='left', predicate='within')\n",
    "grid['waste_treatment'] = join.groupby('index_right').size()\n",
    "grid['waste_treatment'] = grid['waste_treatment'].fillna(0)\n",
    "\n",
    "\n",
    "\n",
    "# 对于线的处理\n",
    "join = gpd.sjoin(gdf_roads, grid, predicate='intersects')\n",
    "join['length'] = join.geometry.length\n",
    "grid['road_length'] = join.groupby('index_right')['length'].sum()\n",
    "grid['road_length'] = grid['road_length'].fillna(0)\n",
    "\n",
    "\n",
    "\n",
    "# 对于面的处理\n",
    "# 每个格子ID对应industrial_area的面积\n",
    "join = gpd.sjoin(gdf_industrial, grid, predicate='intersects')\n",
    "join['intersect_area'] = join.geometry.intersection(join['geometry']).area\n",
    "industrial_area_by_grid = join.groupby('index_right')['intersect_area'].sum()\n",
    "grid['industrial_area'] = grid.index.map(industrial_area_by_grid).fillna(0)\n",
    "# 每个格子ID对应industrial_area的面积\n",
    "join = gpd.sjoin(gdf_agriculture, grid, predicate='intersects')\n",
    "print(join)\n",
    "join['intersect_area'] = join.geometry.intersection(join['geometry']).area\n",
    "agriculture_area_by_grid = join.groupby('index_right')['intersect_area'].sum()\n",
    "grid['agriculture_area'] = grid.index.map(agriculture_area_by_grid).fillna(0)\n",
    "# 每个格子ID对应water的面积\n",
    "join = gpd.sjoin(gdf_water, grid, predicate='intersects')\n",
    "join['intersect_area'] = join.geometry.intersection(join['geometry']).area\n",
    "water_area_by_grid = join.groupby('index_right')['intersect_area'].sum()\n",
    "grid['water_area'] = grid.index.map(water_area_by_grid).fillna(0)\n",
    "\n",
    "\n",
    "print(grid)\n",
    "\n",
    "#\n",
    "# fig, ax = plt.subplots(figsize=(12, 12))\n",
    "# grid.plot(column='factory_count', cmap='Blues', edgecolor='grey', linewidth=0.5, ax=ax, legend=True)\n",
    "# # gdf_buildings.plot(ax=ax, color='red', markersize=5)\n",
    "# plt.title(\"Factory Counts per Grid Cell\", fontsize=15)\n",
    "# plt.show()"
   ],
   "metadata": {
    "collapsed": false,
    "ExecuteTime": {
     "start_time": "2025-05-18T15:42:43.342281Z",
     "end_time": "2025-05-18T15:48:04.834014Z"
    }
   }
  },
  {
   "cell_type": "code",
   "execution_count": null,
   "outputs": [],
   "source": [
    "variables = ['factory_count', 'public_services','waste_treatment','road_length', 'industrial_area','agriculture_area','water_area']\n",
    "\n",
    "fig, axs = plt.subplots(2, 4, figsize=(18, 6))\n",
    "axs = axs.flatten()\n",
    "for i, var in enumerate(variables):\n",
    "    grid.plot(column=var, ax=axs[i], cmap='OrRd', legend=True, edgecolor='grey', linewidth=0.2)\n",
    "    axs[i].set_title(f'{var} per Grid', fontsize=12)\n",
    "    axs[i].axis('off')\n",
    "\n",
    "plt.tight_layout()\n",
    "plt.show()"
   ],
   "metadata": {
    "collapsed": false,
    "ExecuteTime": {
     "start_time": "2025-05-18T15:48:04.837022Z",
     "end_time": "2025-05-18T15:48:10.150673Z"
    }
   }
  },
  {
   "cell_type": "code",
   "execution_count": null,
   "outputs": [],
   "source": [
    "import seaborn as sns\n",
    "import pandas as pd\n",
    "\n",
    "# 只提取需要分析的字段\n",
    "df_analysis = grid[['factory_count', 'public_services','waste_treatment','road_length', 'industrial_area','agriculture_area','water_area']]\n",
    "print(df_analysis)\n",
    "# 计算相关性矩阵\n",
    "corr_matrix = df_analysis.corr()\n",
    "corr_matrix.to_csv(\"correlation_matrix.csv\")\n",
    "# 热力图可视化\n",
    "plt.figure(figsize=(6, 5))\n",
    "sns.heatmap(corr_matrix, annot=True, cmap='coolwarm', fmt=\".2f\")\n",
    "plt.title(\"Correlation Matrix\")\n",
    "plt.show()"
   ],
   "metadata": {
    "collapsed": false,
    "ExecuteTime": {
     "start_time": "2025-05-18T15:49:21.182843Z",
     "end_time": "2025-05-18T15:49:21.471053Z"
    }
   }
  },
  {
   "cell_type": "code",
   "execution_count": null,
   "outputs": [],
   "source": [
    "from sklearn.preprocessing import StandardScaler\n",
    "from sklearn.cluster import KMeans\n",
    "\n",
    "scaler = StandardScaler()\n",
    "X_scaled = scaler.fit_transform(df_analysis)\n",
    "kmeans = KMeans(n_clusters=6, random_state=0)\n",
    "labels = kmeans.fit_predict(X_scaled)\n",
    "grid['cluster'] = labels\n",
    "\n",
    "fig, ax = plt.subplots(figsize=(10, 10))\n",
    "grid.plot(column='cluster', cmap='Set1', legend=True, ax=ax, edgecolor='grey')\n",
    "ax.set_title(\"K-Means Clustering by Urban Structure\")\n",
    "ax.axis('off')\n",
    "plt.tight_layout()\n",
    "plt.show()\n",
    "\n",
    "cluster_means = pd.DataFrame(X_scaled, columns=df_analysis.columns)\n",
    "cluster_means['cluster'] = labels\n",
    "result = cluster_means.groupby('cluster').mean()\n",
    "print(result)"
   ],
   "metadata": {
    "collapsed": false,
    "ExecuteTime": {
     "start_time": "2025-05-18T16:51:02.710423Z",
     "end_time": "2025-05-18T16:51:03.625890Z"
    }
   }
  },
  {
   "cell_type": "markdown",
   "source": [
    "# 建筑体块"
   ],
   "metadata": {
    "collapsed": false
   }
  },
  {
   "cell_type": "code",
   "execution_count": null,
   "outputs": [],
   "source": [
    "from scipy.spatial import cKDTree\n",
    "# gdf_processing + gdf_buildings\n",
    "joined = gpd.sjoin( gdf_processing , gdf_buildings, how='left', predicate='within')\n",
    "print(joined['index_right'].notnull().sum(), \"matched to buildings\")\n",
    "print(joined['index_right'].isnull().sum(), \"not matched\")\n",
    "\n",
    "# 获取建筑的质心（用于快速索引）\n",
    "building_centroids = gdf_buildings.geometry.centroid\n",
    "building_coords = np.array([(p.x, p.y) for p in building_centroids])\n",
    "tree = cKDTree(building_coords)\n",
    "# 对每个加工厂找到最近的建筑索引\n",
    "factory_coords = np.array([(p.x, p.y) for p in gdf_processing.geometry])\n",
    "dists, idxs = tree.query(factory_coords, k=1)\n",
    "\n",
    "# 提取匹配的建筑属性\n",
    "nearest_geometries = gdf_buildings.geometry.iloc[idxs].reset_index(drop=True)\n",
    "\n",
    "# 合并建筑属性到加工厂 GeoDataFrame\n",
    "gdf_processing['building_geom'] = nearest_geometries\n",
    "gdf_processing = gdf_processing[['DENOMINAZI', 'Type', 'geometry', 'building_geom']]\n",
    "gdf_processing_building = gdf_processing[['DENOMINAZI', 'Type', 'building_geom']]\n",
    "\n",
    "# # 绘图\n",
    "# fig, ax = plt.subplots(figsize=(30,30))\n",
    "#\n",
    "# # 建筑面（Polygon）\n",
    "# gdf_buildings.plot(ax=ax, color='grey')\n",
    "#\n",
    "# # 加工厂点（Point）\n",
    "# gdf_processing.plot(ax=ax, color='red', markersize=20, alpha=0.8)\n",
    "#\n",
    "# # 额外可视设置\n",
    "# ax.set_title(\"Food Processing Sites and Buildings\", fontsize=15)\n",
    "# ax.axis('off')\n",
    "#\n",
    "# plt.tight_layout()\n",
    "# plt.show()"
   ],
   "metadata": {
    "collapsed": false,
    "ExecuteTime": {
     "start_time": "2025-05-18T15:48:10.386524Z",
     "end_time": "2025-05-18T15:48:12.563753Z"
    }
   }
  },
  {
   "cell_type": "code",
   "execution_count": null,
   "outputs": [],
   "source": [
    "gdf_processing.to_csv(\"origin_data/processing.csv\", index=False)\n",
    "gdf_processing_building .to_file(\"origin_data/processing_building.shp\")"
   ],
   "metadata": {
    "collapsed": false,
    "ExecuteTime": {
     "start_time": "2025-05-18T15:48:12.565775Z",
     "end_time": "2025-05-18T15:48:12.598160Z"
    }
   }
  }
 ],
 "metadata": {
  "kernelspec": {
   "display_name": "Python 3",
   "language": "python",
   "name": "python3"
  },
  "language_info": {
   "codemirror_mode": {
    "name": "ipython",
    "version": 2
   },
   "file_extension": ".py",
   "mimetype": "text/x-python",
   "name": "python",
   "nbconvert_exporter": "python",
   "pygments_lexer": "ipython2",
   "version": "2.7.6"
  }
 },
 "nbformat": 4,
 "nbformat_minor": 0
}

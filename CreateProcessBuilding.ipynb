{
 "cells": [
  {
   "cell_type": "markdown",
   "source": [
    "### 该文档旨在检查手工爬取数据的准确性"
   ],
   "metadata": {
    "collapsed": false
   }
  },
  {
   "cell_type": "code",
   "execution_count": null,
   "metadata": {
    "collapsed": true
   },
   "outputs": [],
   "source": [
    "import geopandas as gpd\n",
    "import matplotlib.pyplot as plt\n",
    "import pandas as pd\n",
    "from shapely.ops import nearest_points\n",
    "import geopandas as gpd\n",
    "from tqdm import tqdm"
   ]
  },
  {
   "cell_type": "code",
   "execution_count": null,
   "outputs": [],
   "source": [
    "gdf_processing = gpd.read_file(r\"origin_data\\04_transformation_industry\").to_crs(epsg=32632)\n",
    "gdf_buildings = gpd.read_file(r\"origin_data\\10_built_environment\").to_crs(epsg=32632)\n",
    "\n",
    "# 创建结果列\n",
    "nearest_geoms = []\n",
    "\n",
    "# tqdm 显示进度\n",
    "for pt in tqdm(gdf_processing.geometry, desc=\"查找最近建筑\"):\n",
    "    # 找出距离最小的建筑几何\n",
    "    nearest_geom = gdf_buildings.geometry.distance(pt).idxmin()\n",
    "    nearest_geoms.append(gdf_buildings.loc[nearest_geom].geometry)\n",
    "\n",
    "# 写入结果\n",
    "gdf_processing[\"nearest_building_geom\"] = nearest_geoms\n",
    "gdf_processing_with_poly = gdf_processing.set_geometry(\"nearest_building_geom\")"
   ],
   "metadata": {
    "collapsed": false
   }
  },
  {
   "cell_type": "markdown",
   "source": [
    "### 输出点和面的位置以方便查看"
   ],
   "metadata": {
    "collapsed": false
   }
  },
  {
   "cell_type": "code",
   "execution_count": null,
   "outputs": [],
   "source": [
    "import matplotlib.pyplot as plt\n",
    "import geopandas as gpd\n",
    "import os\n",
    "\n",
    "# 创建保存目录\n",
    "output_dir =  \"playground/Pro_Build_Debug\"\n",
    "os.makedirs(output_dir, exist_ok=True)\n",
    "\n",
    "# 确保 geometry 是点\n",
    "gdf_processing_with_poly = gdf_processing_with_poly.set_geometry(\"geometry\")\n",
    "\n",
    "# 遍历每个 index\n",
    "for idx, row in gdf_processing.iterrows():\n",
    "    fig, ax = plt.subplots(figsize=(6, 6))\n",
    "\n",
    "    # 面：最近建筑几何体\n",
    "    gpd.GeoSeries([row[\"nearest_building_geom\"]]).plot(ax=ax, facecolor='lightblue', edgecolor='black', linewidth=1, alpha=0.6, label='建筑面')\n",
    "\n",
    "    # 点：加工厂中心\n",
    "    gpd.GeoSeries([row[\"geometry\"]]).plot(ax=ax, color='red', markersize=30, label='加工厂点')\n",
    "\n",
    "    ax.set_title(f\"Index {idx}\")\n",
    "    ax.axis('equal')\n",
    "    ax.axis('off')\n",
    "    plt.legend()\n",
    "\n",
    "    # 保存图像\n",
    "    plt.tight_layout()\n",
    "    plt.savefig(os.path.join(output_dir, f\"{idx}.png\"), dpi=150)\n",
    "    plt.close()\n",
    "\n",
    "print(f\"✅ 已保存 {len(gdf_processing)} 张图像到 {output_dir}/\")"
   ],
   "metadata": {
    "collapsed": false
   }
  },
  {
   "cell_type": "code",
   "execution_count": null,
   "outputs": [],
   "source": [
    "gdf_to_save = gdf_processing_with_poly[[\"DENOMINAZI\",\"Type\",\"nearest_building_geom\"]]\n",
    "gdf_to_save = gdf_to_save.rename(columns={\n",
    "    \"nearest_building_geom\": \"geometry\"\n",
    "})\n",
    "gdf_to_save = gdf_to_save.set_crs(\"EPSG:32632\")\n",
    "gdf_to_save.to_file(\"processing_data/img/processing_red/processing_building.shp\")"
   ],
   "metadata": {
    "collapsed": false
   }
  }
 ],
 "metadata": {
  "kernelspec": {
   "display_name": "Python 3",
   "language": "python",
   "name": "python3"
  },
  "language_info": {
   "codemirror_mode": {
    "name": "ipython",
    "version": 2
   },
   "file_extension": ".py",
   "mimetype": "text/x-python",
   "name": "python",
   "nbconvert_exporter": "python",
   "pygments_lexer": "ipython2",
   "version": "2.7.6"
  }
 },
 "nbformat": 4,
 "nbformat_minor": 0
}

{
 "cells": [
  {
   "cell_type": "markdown",
   "source": [
    "# DATA INPUT!"
   ],
   "metadata": {
    "collapsed": false
   }
  },
  {
   "cell_type": "code",
   "execution_count": 4,
   "outputs": [
    {
     "name": "stdout",
     "output_type": "stream",
     "text": [
      "✅  已加载 00_Boundaries: Whole area.shp (1 条记录, 0.08 MB)\n",
      "✅  已加载 01_production_farming: farming.shp (1647 条记录, 2.90 MB)\n",
      "✅  已加载 02_production_aquaculture: aquaculture.shp (211 条记录, 2.49 MB)\n",
      "✅  已加载 03_production_livestock: livestock.shp (1538 条记录, 1.61 MB)\n",
      "✅  已加载 04_transformation_industry: processing.shp (103 条记录, 0.00 MB)\n",
      "✅  已加载 05_transformation_energy: energy.shp (147 条记录, 0.03 MB)\n",
      "✅  已加载 06_logistics_transportation: transportation.shp (656 条记录, 0.28 MB)\n",
      "✅  已加载 07_logistics_roads: roads_highways.shp (58252 条记录, 6.92 MB)\n",
      "✅  已加载 08_supply_retail: shop_food_beverage_data.shp (432 条记录, 0.01 MB)\n",
      "✅  已加载 09_supply_public_services: public_services.shp (911 条记录, 0.02 MB)\n",
      "✅  已加载 10_built_environment: buildings.shp (189600 条记录, 54.22 MB)\n",
      "✅  已加载 11_consumption_facilities: consumption_data.shp (2889 条记录, 0.08 MB)\n",
      "✅  已加载 12_consumption_landuse_mix: landuse_mix.shp (7124 条记录, 2.28 MB)\n",
      "✅  已加载 13_waste_treatment: impianti_smaltimento_rifiuti.shp (10 条记录, 0.00 MB)\n"
     ]
    }
   ],
   "source": [
    "import pandas as pd\n",
    "import numpy as np\n",
    "import matplotlib.pyplot as plt\n",
    "import geopandas as gpd\n",
    "from shapely.geometry import box,Polygon\n",
    "import analysis_tool as tool\n",
    "\n",
    "gdfs = tool.load_all_gdfs(\"origin_data\")\n",
    "# print(len(gdfs))\n",
    "# 文件内容为：gdfs[\"文件夹名\"]\n",
    "# ├── 00_Boundaries/                     # 边界\n",
    "# │\n",
    "# ├── 01_production_farming/             # 农作物（可耕地）\n",
    "# │\n",
    "# ├── 02_production_aquaculture/         # 水产养殖（海岸泻湖 + 河口）\n",
    "# │\n",
    "# ├── 03_production_livestock/           # 畜牧养殖（草场）\n",
    "# │\n",
    "# ├── 04_transformation_industry/        # 食品加工厂（GOOGLE 来源）\n",
    "# │\n",
    "# ├── 05_transformation_energy/          # 水厂、电厂、供热等能源基础设施\n",
    "# │\n",
    "# ├── 06_logistics_transportation/        # 公共交通 + 港口 + 仓储 + 配送中心\n",
    "# │\n",
    "# ├── 07_logistics_roads/                # 可通行道路（MultiDiGraph）\n",
    "# │\n",
    "# ├── 08_supply_retail/                  # 超市、市场、批发商等零售终端\n",
    "# │\n",
    "# ├── 09_supply_public_services/         # 公共服务设施：学校、医疗、福利\n",
    "# │\n",
    "# ├── 10_built_environment/              # 建成区信息（居住、商业、工业）\n",
    "# │\n",
    "# ├── 11_consumption_facilities/         # 餐饮、酒店、住宿类消费终端\n",
    "# │\n",
    "# ├── 12_consumption_landuse_mix/        # 土地混合度计算所需的 landuse 数据\n",
    "# │\n",
    "# ├── 13_waste_treatment/                # 废弃物处理设施：垃圾厂、废水厂\n"
   ],
   "metadata": {
    "collapsed": false,
    "ExecuteTime": {
     "start_time": "2025-05-28T18:46:16.198283Z",
     "end_time": "2025-05-28T18:46:19.401487Z"
    }
   }
  },
  {
   "cell_type": "markdown",
   "source": [
    "# 创建网格"
   ],
   "metadata": {
    "collapsed": false
   }
  },
  {
   "cell_type": "code",
   "execution_count": 3,
   "outputs": [],
   "source": [
    "# # 设置格网大小（单位和你的坐标系一致，比如米）\n",
    "# grid_size = 1000  # 每个正方形边长1000米（1公里）\n",
    "#\n",
    "# # 获取工厂数据的包络范围 (bounding box)\n",
    "# minx, miny, maxx, maxy = gdfs[\"00_Boundaries\"].total_bounds\n",
    "#\n",
    "# # 创建格网\n",
    "# grid_cells = []\n",
    "# x_left = minx\n",
    "# while x_left < maxx:\n",
    "#     y_bottom = miny\n",
    "#     while y_bottom < maxy:\n",
    "#         cell = box(x_left, y_bottom, x_left + grid_size, y_bottom + grid_size)\n",
    "#         grid_cells.append(cell)\n",
    "#         y_bottom += grid_size\n",
    "#     x_left += grid_size\n",
    "#\n",
    "# # 转成GeoDataFrame\n",
    "# grid = gpd.GeoDataFrame({'geometry': grid_cells})\n",
    "grid= gpd.read_file(r\"D:\\Architecture\\AAA-Master\\25Spring\\ISUF\\UrbanFood\\origin_data\\grid_entropy.geojson\")"
   ],
   "metadata": {
    "collapsed": false,
    "ExecuteTime": {
     "start_time": "2025-05-28T17:50:00.143275Z",
     "end_time": "2025-05-28T17:50:00.347499Z"
    }
   }
  },
  {
   "cell_type": "markdown",
   "source": [
    "## 空间连接，存储为 joined_grid.geojson"
   ],
   "metadata": {
    "collapsed": false,
    "ExecuteTime": {
     "start_time": "2025-05-28T17:19:15.354639Z",
     "end_time": "2025-05-28T17:19:15.381972Z"
    }
   },
   "outputs": [
    {
     "name": "stdout",
     "output_type": "stream",
     "text": [
      "['farmland' 'meadow' 'residential' 'industrial' 'commercial' 'retail'\n",
      " 'construction' 'recreation_ground' 'education']\n"
     ]
    }
   ],
   "execution_count": 15
  },
  {
   "cell_type": "code",
   "execution_count": 8,
   "outputs": [
    {
     "name": "stdout",
     "output_type": "stream",
     "text": [
      "  Calculating area for farming_area...\n"
     ]
    },
    {
     "name": "stderr",
     "output_type": "stream",
     "text": [
      "100%|██████████| 3576/3576 [00:00<00:00, 5516.53it/s]\n"
     ]
    },
    {
     "name": "stdout",
     "output_type": "stream",
     "text": [
      "  Calculating area for farming_area...\n"
     ]
    },
    {
     "name": "stderr",
     "output_type": "stream",
     "text": [
      "\n",
      "KeyboardInterrupt\n",
      "\n"
     ]
    }
   ],
   "source": [
    "\n",
    "# ├── 00_Boundaries/                     # 边界\n",
    "# │\n",
    "# ├── 01_production_farming/             # 农作物（可耕地）\n",
    "# │\n",
    "# ├── 02_production_aquaculture/         # 水产养殖（海岸泻湖 + 河口）\n",
    "# │\n",
    "# ├── 03_production_livestock/           # 畜牧养殖（草场）\n",
    "# │\n",
    "# ├── 04_transformation_industry/        # 食品加工厂（GOOGLE 来源）\n",
    "# │\n",
    "# ├── 05_transformation_energy/          # 水厂、电厂、供热等能源基础设施\n",
    "# │\n",
    "# ├── 06_logistics_transportation/        # 公共交通 + 港口 + 仓储 + 配送中心\n",
    "# │\n",
    "# ├── 07_logistics_roads/                # 可通行道路（MultiDiGraph）\n",
    "# │\n",
    "# ├── 08_supply_retail/                  # 超市、市场、批发商等零售终端\n",
    "# │\n",
    "# ├── 09_supply_public_services/         # 公共服务设施：学校、医疗、福利\n",
    "# │\n",
    "# ├── 10_built_environment/              # 建成区信息（居住、商业、工业）\n",
    "# │\n",
    "# ├── 11_consumption_facilities/         # 餐饮、酒店、住宿类消费终端\n",
    "# │\n",
    "# ├── 12_consumption_landuse_mix/        # 土地混合度计算所需的 landuse 数据\n",
    "# │\n",
    "# ├── 13_waste_treatment/                # 废弃物处理设施：垃圾厂、废水厂\n",
    "# 计算面\n",
    "grid = tool.area_polygons_in_grid(gdfs[\"01_production_farming\"], grid, \"farming_area\")\n",
    "grid = tool.area_polygons_in_grid(gdfs[\"02_production_aquaculture\"], grid, \"farming_area\")\n",
    "grid = tool.area_polygons_in_grid(gdfs[\"03_production_livestock\"], grid, \"pasture_area\")\n",
    "grid = tool.area_polygons_in_grid(gdfs[\"05_transformation_energy\"], grid, \"energy_area\")\n",
    "grid = tool.area_polygons_in_grid(gdfs[\"06_logistics_transportation\"], grid, \"transportation_area\")\n",
    "grid = tool.area_polygons_in_grid(gdfs[\"10_built_environment\"], grid, \"built_area\")\n",
    "grid = tool.area_polygons_in_grid(gdfs[\"12_consumption_landuse_mix\"], grid, \"landuse_area\")\n",
    "# 计算各个landuse\n",
    "gdf_landuse=gdfs[\"12_consumption_landuse_mix\"]\n",
    "landuse_types = gdf_landuse[\"landuse\"].unique()\n",
    "for landuse_type in landuse_types:\n",
    "    sub_gdf = gdf_landuse[gdf_landuse[\"landuse\"] == landuse_type]\n",
    "    column_name = f\"{landuse_type}_area\"\n",
    "    grid = tool.area_polygons_in_grid(sub_gdf, grid, column_name)\n",
    "# 计算点\n",
    "grid = tool.count_points_in_grid(gdfs[\"04_transformation_industry\"], grid, \"factory_count\")\n",
    "grid = tool.count_points_in_grid(gdfs[\"08_supply_retail\"], grid, \"retail_count\")\n",
    "grid = tool.count_points_in_grid(gdfs[\"09_supply_public_services\"], grid, \"public_services\")\n",
    "grid = tool.count_points_in_grid(gdfs[\"11_consumption_facilities\"], grid, \"consumption_count\")\n",
    "grid = tool.count_points_in_grid(gdfs[\"13_waste_treatment\"], grid, \"waste_treatment\")\n",
    "# 计算线\n",
    "grid = tool.length_lines_in_grid(gdfs[\"07_logistics_roads\"], grid, \"road_length\")\n",
    "# 道路交叉点\n",
    "gdf_intersections = tool.extract_road_intersections(gdfs[\"07_logistics_roads\"])\n",
    "grid = tool.count_points_in_grid(gdf_intersections, grid, \"intersection_count\")\n",
    "# 其他\n",
    "grid.to_file(\"origin_data/joined_grid.geojson\")"
   ],
   "metadata": {
    "collapsed": false,
    "ExecuteTime": {
     "start_time": "2025-05-28T17:23:31.099160Z",
     "end_time": "2025-05-28T17:24:23.420787Z"
    }
   }
  },
  {
   "cell_type": "code",
   "execution_count": 8,
   "outputs": [
    {
     "name": "stdout",
     "output_type": "stream",
     "text": [
      "     grid_id  entropy                                           geometry  \\\n",
      "0          0      0.0  POLYGON ((738456.093 4999587.787, 738456.093 5...   \n",
      "1          1      0.0  POLYGON ((738456.093 5000587.787, 738456.093 5...   \n",
      "2          2      0.0  POLYGON ((738456.093 5001587.787, 738456.093 5...   \n",
      "3          3      0.0  POLYGON ((738456.093 5002587.787, 738456.093 5...   \n",
      "4          4      0.0  POLYGON ((738456.093 5003587.787, 738456.093 5...   \n",
      "...      ...      ...                                                ...   \n",
      "3871    3871      0.0  POLYGON ((794456.093 5062587.787, 794456.093 5...   \n",
      "3872    3872      0.0  POLYGON ((794456.093 5063587.787, 794456.093 5...   \n",
      "3873    3873      0.0  POLYGON ((794456.093 5064587.787, 794456.093 5...   \n",
      "3874    3874      0.0  POLYGON ((794456.093 5065587.787, 794456.093 5...   \n",
      "3875    3875      0.0  POLYGON ((794456.093 5066587.787, 794456.093 5...   \n",
      "\n",
      "      farming_area  pasture_area  energy_area  transportation_area  \\\n",
      "0              0.0           0.0          0.0                  0.0   \n",
      "1              0.0           0.0          0.0                  0.0   \n",
      "2              0.0           0.0          0.0                  0.0   \n",
      "3              0.0           0.0          0.0                  0.0   \n",
      "4              0.0           0.0          0.0                  0.0   \n",
      "...            ...           ...          ...                  ...   \n",
      "3871           0.0           0.0          0.0                  0.0   \n",
      "3872           0.0           0.0          0.0                  0.0   \n",
      "3873           0.0           0.0          0.0                  0.0   \n",
      "3874           0.0           0.0          0.0                  0.0   \n",
      "3875           0.0           0.0          0.0                  0.0   \n",
      "\n",
      "      building_area  landuse_area  farmland_area  ...  retail_area  \\\n",
      "0               0.0           0.0            0.0  ...          0.0   \n",
      "1               0.0           0.0            0.0  ...          0.0   \n",
      "2               0.0           0.0            0.0  ...          0.0   \n",
      "3               0.0           0.0            0.0  ...          0.0   \n",
      "4               0.0           0.0            0.0  ...          0.0   \n",
      "...             ...           ...            ...  ...          ...   \n",
      "3871            0.0           0.0            0.0  ...          0.0   \n",
      "3872            0.0           0.0            0.0  ...          0.0   \n",
      "3873            0.0           0.0            0.0  ...          0.0   \n",
      "3874            0.0           0.0            0.0  ...          0.0   \n",
      "3875            0.0           0.0            0.0  ...          0.0   \n",
      "\n",
      "      construction_area  recreation_ground_area  education_area  \\\n",
      "0                   0.0                     0.0             0.0   \n",
      "1                   0.0                     0.0             0.0   \n",
      "2                   0.0                     0.0             0.0   \n",
      "3                   0.0                     0.0             0.0   \n",
      "4                   0.0                     0.0             0.0   \n",
      "...                 ...                     ...             ...   \n",
      "3871                0.0                     0.0             0.0   \n",
      "3872                0.0                     0.0             0.0   \n",
      "3873                0.0                     0.0             0.0   \n",
      "3874                0.0                     0.0             0.0   \n",
      "3875                0.0                     0.0             0.0   \n",
      "\n",
      "      factory_count  retail_count  public_services  consumption_count  \\\n",
      "0               0.0           0.0              0.0                0.0   \n",
      "1               0.0           0.0              0.0                0.0   \n",
      "2               0.0           0.0              0.0                0.0   \n",
      "3               0.0           0.0              0.0                0.0   \n",
      "4               0.0           0.0              0.0                0.0   \n",
      "...             ...           ...              ...                ...   \n",
      "3871            0.0           0.0              0.0                0.0   \n",
      "3872            0.0           0.0              0.0                0.0   \n",
      "3873            0.0           0.0              0.0                0.0   \n",
      "3874            0.0           0.0              0.0                0.0   \n",
      "3875            0.0           0.0              0.0                0.0   \n",
      "\n",
      "      waste_treatment  road_length  \n",
      "0                 0.0          0.0  \n",
      "1                 0.0          0.0  \n",
      "2                 0.0          0.0  \n",
      "3                 0.0          0.0  \n",
      "4                 0.0          0.0  \n",
      "...               ...          ...  \n",
      "3871              0.0          0.0  \n",
      "3872              0.0          0.0  \n",
      "3873              0.0          0.0  \n",
      "3874              0.0          0.0  \n",
      "3875              0.0          0.0  \n",
      "\n",
      "[3876 rows x 24 columns]\n"
     ]
    },
    {
     "ename": "AttributeError",
     "evalue": "'GeoSeries' object has no attribute 'iteritems'",
     "output_type": "error",
     "traceback": [
      "\u001B[1;31m---------------------------------------------------------------------------\u001B[0m",
      "\u001B[1;31mAttributeError\u001B[0m                            Traceback (most recent call last)",
      "Cell \u001B[1;32mIn[8], line 4\u001B[0m\n\u001B[0;32m      2\u001B[0m grid\u001B[38;5;241m.\u001B[39mto_file(\u001B[38;5;124m\"\u001B[39m\u001B[38;5;124morigin_data/joined_grid.geojson\u001B[39m\u001B[38;5;124m\"\u001B[39m)\n\u001B[0;32m      3\u001B[0m \u001B[38;5;66;03m# 计算交叉路口\u001B[39;00m\n\u001B[1;32m----> 4\u001B[0m gdf_intersections \u001B[38;5;241m=\u001B[39m \u001B[43mtool\u001B[49m\u001B[38;5;241;43m.\u001B[39;49m\u001B[43mextract_road_intersections\u001B[49m\u001B[43m(\u001B[49m\u001B[43mgdfs\u001B[49m\u001B[43m[\u001B[49m\u001B[38;5;124;43m\"\u001B[39;49m\u001B[38;5;124;43m07_logistics_roads\u001B[39;49m\u001B[38;5;124;43m\"\u001B[39;49m\u001B[43m]\u001B[49m\u001B[43m)\u001B[49m\n\u001B[0;32m      5\u001B[0m grid \u001B[38;5;241m=\u001B[39m tool\u001B[38;5;241m.\u001B[39mcount_points_in_grid(gdf_intersections, grid, \u001B[38;5;124m\"\u001B[39m\u001B[38;5;124mintersection_count\u001B[39m\u001B[38;5;124m\"\u001B[39m)\n",
      "File \u001B[1;32mD:\\Architecture\\AAA-Master\\25Spring\\ISUF\\UrbanFood\\analysis_tool.py:123\u001B[0m, in \u001B[0;36mextract_road_intersections\u001B[1;34m(gdf_roads)\u001B[0m\n\u001B[0;32m    120\u001B[0m \u001B[38;5;66;03m# 使用空间索引查找可能相交的线段组合\u001B[39;00m\n\u001B[0;32m    121\u001B[0m intersections \u001B[38;5;241m=\u001B[39m []\n\u001B[1;32m--> 123\u001B[0m \u001B[38;5;28;01mfor\u001B[39;00m i, geom1 \u001B[38;5;129;01min\u001B[39;00m tqdm(\u001B[43mgdf_roads\u001B[49m\u001B[38;5;241;43m.\u001B[39;49m\u001B[43mgeometry\u001B[49m\u001B[38;5;241;43m.\u001B[39;49m\u001B[43miteritems\u001B[49m(), total\u001B[38;5;241m=\u001B[39m\u001B[38;5;28mlen\u001B[39m(gdf_roads), desc\u001B[38;5;241m=\u001B[39m\u001B[38;5;124m\"\u001B[39m\u001B[38;5;124m⛓️ 提取交叉口\u001B[39m\u001B[38;5;124m\"\u001B[39m):\n\u001B[0;32m    124\u001B[0m     candidates \u001B[38;5;241m=\u001B[39m gdf_roads\u001B[38;5;241m.\u001B[39msindex\u001B[38;5;241m.\u001B[39mquery(geom1, predicate\u001B[38;5;241m=\u001B[39m\u001B[38;5;124m\"\u001B[39m\u001B[38;5;124mintersects\u001B[39m\u001B[38;5;124m\"\u001B[39m)\n\u001B[0;32m    125\u001B[0m     \u001B[38;5;28;01mfor\u001B[39;00m j \u001B[38;5;129;01min\u001B[39;00m candidates:\n",
      "File \u001B[1;32mD:\\STUDY\\anaconda3\\envs\\urban_morphology\\lib\\site-packages\\pandas\\core\\generic.py:6299\u001B[0m, in \u001B[0;36mNDFrame.__getattr__\u001B[1;34m(self, name)\u001B[0m\n\u001B[0;32m   6292\u001B[0m \u001B[38;5;28;01mif\u001B[39;00m (\n\u001B[0;32m   6293\u001B[0m     name \u001B[38;5;129;01mnot\u001B[39;00m \u001B[38;5;129;01min\u001B[39;00m \u001B[38;5;28mself\u001B[39m\u001B[38;5;241m.\u001B[39m_internal_names_set\n\u001B[0;32m   6294\u001B[0m     \u001B[38;5;129;01mand\u001B[39;00m name \u001B[38;5;129;01mnot\u001B[39;00m \u001B[38;5;129;01min\u001B[39;00m \u001B[38;5;28mself\u001B[39m\u001B[38;5;241m.\u001B[39m_metadata\n\u001B[0;32m   6295\u001B[0m     \u001B[38;5;129;01mand\u001B[39;00m name \u001B[38;5;129;01mnot\u001B[39;00m \u001B[38;5;129;01min\u001B[39;00m \u001B[38;5;28mself\u001B[39m\u001B[38;5;241m.\u001B[39m_accessors\n\u001B[0;32m   6296\u001B[0m     \u001B[38;5;129;01mand\u001B[39;00m \u001B[38;5;28mself\u001B[39m\u001B[38;5;241m.\u001B[39m_info_axis\u001B[38;5;241m.\u001B[39m_can_hold_identifiers_and_holds_name(name)\n\u001B[0;32m   6297\u001B[0m ):\n\u001B[0;32m   6298\u001B[0m     \u001B[38;5;28;01mreturn\u001B[39;00m \u001B[38;5;28mself\u001B[39m[name]\n\u001B[1;32m-> 6299\u001B[0m \u001B[38;5;28;01mreturn\u001B[39;00m \u001B[38;5;28;43mobject\u001B[39;49m\u001B[38;5;241;43m.\u001B[39;49m\u001B[38;5;21;43m__getattribute__\u001B[39;49m\u001B[43m(\u001B[49m\u001B[38;5;28;43mself\u001B[39;49m\u001B[43m,\u001B[49m\u001B[43m \u001B[49m\u001B[43mname\u001B[49m\u001B[43m)\u001B[49m\n",
      "\u001B[1;31mAttributeError\u001B[0m: 'GeoSeries' object has no attribute 'iteritems'"
     ]
    }
   ],
   "source": [
    "variables = [\"farming_area\",\"farming_area\",\"pasture_area\",\"building_area\",\"factory_count\",\"public_services\",\"waste_treatment\",\"road_length\"]\n",
    "\n",
    "fig, axs = plt.subplots(2, 4, figsize=(18, 6))\n",
    "axs = axs.flatten()\n",
    "for i, var in enumerate(variables):\n",
    "    grid.plot(column=var, ax=axs[i], cmap='OrRd', legend=True, edgecolor='grey', linewidth=0.2)\n",
    "    axs[i].set_title(f'{var} per Grid', fontsize=12)\n",
    "    axs[i].axis('off')\n",
    "\n",
    "plt.tight_layout()\n",
    "plt.show()"
   ],
   "metadata": {
    "collapsed": false,
    "ExecuteTime": {
     "start_time": "2025-05-28T17:30:05.793168Z",
     "end_time": "2025-05-28T17:30:05.806171Z"
    }
   }
  },
  {
   "cell_type": "code",
   "execution_count": null,
   "outputs": [],
   "source": [
    "import seaborn as sns\n",
    "import pandas as pd\n",
    "\n",
    "# 只提取需要分析的字段\n",
    "df_analysis = grid[['factory_count', 'public_services','waste_treatment','road_length', 'industrial_area','agriculture_area','water_area']]\n",
    "print(df_analysis)\n",
    "# 计算相关性矩阵\n",
    "corr_matrix = df_analysis.corr()\n",
    "corr_matrix.to_csv(\"correlation_matrix.csv\")\n",
    "# 热力图可视化\n",
    "plt.figure(figsize=(6, 5))\n",
    "sns.heatmap(corr_matrix, annot=True, cmap='coolwarm', fmt=\".2f\")\n",
    "plt.title(\"Correlation Matrix\")\n",
    "plt.show()"
   ],
   "metadata": {
    "collapsed": false,
    "ExecuteTime": {
     "start_time": "2025-05-28T17:25:56.043368Z",
     "end_time": "2025-05-28T17:25:56.102672Z"
    }
   }
  },
  {
   "cell_type": "code",
   "execution_count": null,
   "outputs": [],
   "source": [
    "from sklearn.preprocessing import StandardScaler\n",
    "from sklearn.cluster import KMeans\n",
    "\n",
    "scaler = StandardScaler()\n",
    "X_scaled = scaler.fit_transform(df_analysis)\n",
    "kmeans = KMeans(n_clusters=6, random_state=0)\n",
    "labels = kmeans.fit_predict(X_scaled)\n",
    "grid['cluster'] = labels\n",
    "\n",
    "fig, ax = plt.subplots(figsize=(10, 10))\n",
    "grid.plot(column='cluster', cmap='Set1', legend=True, ax=ax, edgecolor='grey')\n",
    "ax.set_title(\"K-Means Clustering by Urban Structure\")\n",
    "ax.axis('off')\n",
    "plt.tight_layout()\n",
    "plt.show()\n",
    "\n",
    "cluster_means = pd.DataFrame(X_scaled, columns=df_analysis.columns)\n",
    "cluster_means['cluster'] = labels\n",
    "result = cluster_means.groupby('cluster').mean()\n",
    "print(result)"
   ],
   "metadata": {
    "collapsed": false,
    "ExecuteTime": {
     "start_time": "2025-05-28T15:23:29.178860Z",
     "end_time": "2025-05-28T15:23:41.189771Z"
    }
   }
  }
 ],
 "metadata": {
  "kernelspec": {
   "display_name": "Python 3",
   "language": "python",
   "name": "python3"
  },
  "language_info": {
   "codemirror_mode": {
    "name": "ipython",
    "version": 2
   },
   "file_extension": ".py",
   "mimetype": "text/x-python",
   "name": "python",
   "nbconvert_exporter": "python",
   "pygments_lexer": "ipython2",
   "version": "2.7.6"
  }
 },
 "nbformat": 4,
 "nbformat_minor": 0
}
